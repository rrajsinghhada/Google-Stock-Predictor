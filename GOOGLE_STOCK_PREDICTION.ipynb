{
 "cells": [
  {
   "cell_type": "markdown",
   "metadata": {
    "colab_type": "text",
    "id": "ir9zwETrfbrp"
   },
   "source": [
    "### Importing the libraries"
   ]
  },
  {
   "cell_type": "code",
   "execution_count": 1,
   "metadata": {
    "colab": {},
    "colab_type": "code",
    "id": "ZT1f24vHffuf"
   },
   "outputs": [],
   "source": [
    "import numpy as np\n",
    "import matplotlib.pyplot as plt\n",
    "import pandas as pd"
   ]
  },
  {
   "cell_type": "markdown",
   "metadata": {
    "colab_type": "text",
    "id": "nQ47JAxrgmaL"
   },
   "source": [
    "### Importing the training set"
   ]
  },
  {
   "cell_type": "code",
   "execution_count": 2,
   "metadata": {
    "colab": {},
    "colab_type": "code",
    "id": "1xiv3pJOgqY3"
   },
   "outputs": [],
   "source": [
    "dataset_train = pd.read_csv('GOOGLE_TRAIN_DATA.csv')\n",
    "training_set = dataset_train.iloc[:, 1:2].values"
   ]
  },
  {
   "cell_type": "markdown",
   "metadata": {
    "colab_type": "text",
    "id": "HT8_2UJegtG5"
   },
   "source": [
    "### Feature Scaling"
   ]
  },
  {
   "cell_type": "code",
   "execution_count": 3,
   "metadata": {
    "colab": {},
    "colab_type": "code",
    "id": "OTrF2kR7gx9x"
   },
   "outputs": [],
   "source": [
    "from sklearn.preprocessing import MinMaxScaler\n",
    "sc = MinMaxScaler(feature_range = (0, 1))\n",
    "training_set_scaled = sc.fit_transform(training_set)"
   ]
  },
  {
   "cell_type": "markdown",
   "metadata": {
    "colab_type": "text",
    "id": "JyYgYocqhNUg"
   },
   "source": [
    "### Creating a data structure with 60 timesteps and 1 output"
   ]
  },
  {
   "cell_type": "code",
   "execution_count": 4,
   "metadata": {
    "colab": {},
    "colab_type": "code",
    "id": "iofU21B0i6ST"
   },
   "outputs": [],
   "source": [
    "X_train = []\n",
    "y_train = []\n",
    "for i in range(60, 1258):\n",
    "    X_train.append(training_set_scaled[i-60:i, 0])\n",
    "    y_train.append(training_set_scaled[i, 0])\n",
    "X_train, y_train = np.array(X_train), np.array(y_train)"
   ]
  },
  {
   "cell_type": "markdown",
   "metadata": {
    "colab_type": "text",
    "id": "D8yaN7Zvi95l"
   },
   "source": [
    "### Reshaping"
   ]
  },
  {
   "cell_type": "code",
   "execution_count": 5,
   "metadata": {
    "colab": {},
    "colab_type": "code",
    "id": "FOXqJHmNjBkz"
   },
   "outputs": [],
   "source": [
    "X_train = np.reshape(X_train, (X_train.shape[0], X_train.shape[1], 1))"
   ]
  },
  {
   "cell_type": "markdown",
   "metadata": {
    "colab_type": "text",
    "id": "ZRRSOJeVjEWV"
   },
   "source": [
    "## Part 2 - Building and Training the RNN"
   ]
  },
  {
   "cell_type": "markdown",
   "metadata": {
    "colab_type": "text",
    "id": "k4XV88JMjHXG"
   },
   "source": [
    "### Importing the Keras libraries and packages"
   ]
  },
  {
   "cell_type": "code",
   "execution_count": 6,
   "metadata": {
    "colab": {
     "base_uri": "https://localhost:8080/",
     "height": 34
    },
    "colab_type": "code",
    "id": "9JRnqsxEjKsD",
    "outputId": "b3e23e78-18aa-4396-c923-c877b8de60e4"
   },
   "outputs": [],
   "source": [
    "from keras.models import Sequential\n",
    "from keras.layers import Dense\n",
    "from keras.layers import LSTM\n",
    "from keras.layers import Dropout"
   ]
  },
  {
   "cell_type": "markdown",
   "metadata": {
    "colab_type": "text",
    "id": "FEIE-1s9jNzC"
   },
   "source": [
    "### Initialising the RNN"
   ]
  },
  {
   "cell_type": "code",
   "execution_count": 7,
   "metadata": {
    "colab": {},
    "colab_type": "code",
    "id": "1338dJ0UjRKH"
   },
   "outputs": [
    {
     "name": "stdout",
     "output_type": "stream",
     "text": [
      "Metal device set to: Apple M1\n"
     ]
    }
   ],
   "source": [
    "regressor = Sequential()"
   ]
  },
  {
   "cell_type": "markdown",
   "metadata": {
    "colab_type": "text",
    "id": "62eg1OPGjT8z"
   },
   "source": [
    "### Adding the first LSTM layer and some Dropout regularisation"
   ]
  },
  {
   "cell_type": "code",
   "execution_count": 8,
   "metadata": {
    "colab": {},
    "colab_type": "code",
    "id": "2hIinyXUjbVU"
   },
   "outputs": [],
   "source": [
    "regressor.add(LSTM(units = 78, return_sequences = True, input_shape = (X_train.shape[1], 1)))\n",
    "regressor.add(Dropout(0.2))"
   ]
  },
  {
   "cell_type": "markdown",
   "metadata": {
    "colab_type": "text",
    "id": "3XBIYLyOjlMx"
   },
   "source": [
    "### Adding a second LSTM layer and some Dropout regularisation"
   ]
  },
  {
   "cell_type": "code",
   "execution_count": 9,
   "metadata": {
    "colab": {},
    "colab_type": "code",
    "id": "UG7nrVaSjuZ2"
   },
   "outputs": [],
   "source": [
    "regressor.add(LSTM(units = 78, return_sequences = True))\n",
    "regressor.add(Dropout(0.2))"
   ]
  },
  {
   "cell_type": "markdown",
   "metadata": {
    "colab_type": "text",
    "id": "Ey3fHVnGj1cu"
   },
   "source": [
    "### Adding a third LSTM layer and some Dropout regularisation"
   ]
  },
  {
   "cell_type": "code",
   "execution_count": 10,
   "metadata": {
    "colab": {},
    "colab_type": "code",
    "id": "PuNi6PgFj7jO"
   },
   "outputs": [],
   "source": [
    "regressor.add(LSTM(units = 78, return_sequences = True))\n",
    "regressor.add(Dropout(0.2))"
   ]
  },
  {
   "cell_type": "markdown",
   "metadata": {
    "colab_type": "text",
    "id": "SYTrtfTmj933"
   },
   "source": [
    "### Adding a fourth LSTM layer and some Dropout regularisation"
   ]
  },
  {
   "cell_type": "code",
   "execution_count": 11,
   "metadata": {
    "colab": {},
    "colab_type": "code",
    "id": "Jp4Ty8fRkBYV"
   },
   "outputs": [],
   "source": [
    "regressor.add(LSTM(units = 100))\n",
    "regressor.add(Dropout(0.2))"
   ]
  },
  {
   "cell_type": "markdown",
   "metadata": {
    "colab_type": "text",
    "id": "9ABI6rOIkHhk"
   },
   "source": [
    "### Adding the output layer"
   ]
  },
  {
   "cell_type": "code",
   "execution_count": 12,
   "metadata": {
    "colab": {},
    "colab_type": "code",
    "id": "aM6R1z4WkME8"
   },
   "outputs": [],
   "source": [
    "regressor.add(Dense(units = 1))"
   ]
  },
  {
   "cell_type": "markdown",
   "metadata": {
    "colab_type": "text",
    "id": "zLx4K7uUkPSh"
   },
   "source": [
    "### Compiling the RNN"
   ]
  },
  {
   "cell_type": "code",
   "execution_count": 13,
   "metadata": {
    "colab": {},
    "colab_type": "code",
    "id": "XTrhVN-tkbko"
   },
   "outputs": [],
   "source": [
    "regressor.compile(optimizer = 'adam', loss = 'mean_squared_error')"
   ]
  },
  {
   "cell_type": "markdown",
   "metadata": {
    "colab_type": "text",
    "id": "-mPhwKGkkebi"
   },
   "source": [
    "### Fitting the RNN to the Training set"
   ]
  },
  {
   "cell_type": "code",
   "execution_count": 14,
   "metadata": {
    "colab": {
     "base_uri": "https://localhost:8080/",
     "height": 1000
    },
    "colab_type": "code",
    "id": "I06Nkrz5kkb-",
    "outputId": "dc9d947a-4d5c-4dbc-ed45-31bf44b98dfb"
   },
   "outputs": [
    {
     "name": "stdout",
     "output_type": "stream",
     "text": [
      "Epoch 1/100\n"
     ]
    },
    {
     "name": "stderr",
     "output_type": "stream",
     "text": [
      "2023-05-29 15:00:48.711352: W tensorflow/tsl/platform/profile_utils/cpu_utils.cc:128] Failed to get CPU frequency: 0 Hz\n"
     ]
    },
    {
     "name": "stdout",
     "output_type": "stream",
     "text": [
      "38/38 [==============================] - 8s 47ms/step - loss: 0.0156\n",
      "Epoch 2/100\n",
      "38/38 [==============================] - 1s 28ms/step - loss: 0.0017\n",
      "Epoch 3/100\n",
      "38/38 [==============================] - 1s 28ms/step - loss: 0.0012\n",
      "Epoch 4/100\n",
      "38/38 [==============================] - 1s 27ms/step - loss: 0.0013\n",
      "Epoch 5/100\n",
      "38/38 [==============================] - 1s 28ms/step - loss: 0.0016\n",
      "Epoch 6/100\n",
      "38/38 [==============================] - 1s 27ms/step - loss: 0.0011\n",
      "Epoch 7/100\n",
      "38/38 [==============================] - 1s 27ms/step - loss: 0.0011\n",
      "Epoch 8/100\n",
      "38/38 [==============================] - 1s 27ms/step - loss: 0.0012\n",
      "Epoch 9/100\n",
      "38/38 [==============================] - 1s 28ms/step - loss: 0.0010\n",
      "Epoch 10/100\n",
      "38/38 [==============================] - 1s 27ms/step - loss: 0.0012\n",
      "Epoch 11/100\n",
      "38/38 [==============================] - 1s 29ms/step - loss: 9.2165e-04\n",
      "Epoch 12/100\n",
      "38/38 [==============================] - 1s 27ms/step - loss: 0.0012\n",
      "Epoch 13/100\n",
      "38/38 [==============================] - 1s 27ms/step - loss: 8.7642e-04\n",
      "Epoch 14/100\n",
      "38/38 [==============================] - 1s 27ms/step - loss: 8.6870e-04\n",
      "Epoch 15/100\n",
      "38/38 [==============================] - 1s 27ms/step - loss: 0.0011\n",
      "Epoch 16/100\n",
      "38/38 [==============================] - 1s 27ms/step - loss: 9.0438e-04\n",
      "Epoch 17/100\n",
      "38/38 [==============================] - 1s 27ms/step - loss: 7.4587e-04\n",
      "Epoch 18/100\n",
      "38/38 [==============================] - 1s 27ms/step - loss: 7.2595e-04\n",
      "Epoch 19/100\n",
      "38/38 [==============================] - 1s 28ms/step - loss: 7.7058e-04\n",
      "Epoch 20/100\n",
      "38/38 [==============================] - 1s 27ms/step - loss: 6.8644e-04\n",
      "Epoch 21/100\n",
      "38/38 [==============================] - 1s 27ms/step - loss: 6.8163e-04\n",
      "Epoch 22/100\n",
      "38/38 [==============================] - 1s 27ms/step - loss: 6.4580e-04\n",
      "Epoch 23/100\n",
      "38/38 [==============================] - 1s 27ms/step - loss: 8.1839e-04\n",
      "Epoch 24/100\n",
      "38/38 [==============================] - 1s 27ms/step - loss: 6.3721e-04\n",
      "Epoch 25/100\n",
      "38/38 [==============================] - 1s 27ms/step - loss: 6.5820e-04\n",
      "Epoch 26/100\n",
      "38/38 [==============================] - 1s 27ms/step - loss: 6.2796e-04\n",
      "Epoch 27/100\n",
      "38/38 [==============================] - 1s 27ms/step - loss: 6.7964e-04\n",
      "Epoch 28/100\n",
      "38/38 [==============================] - 1s 27ms/step - loss: 6.9771e-04\n",
      "Epoch 29/100\n",
      "38/38 [==============================] - 1s 27ms/step - loss: 8.7180e-04\n",
      "Epoch 30/100\n",
      "38/38 [==============================] - 1s 27ms/step - loss: 6.3711e-04\n",
      "Epoch 31/100\n",
      "38/38 [==============================] - 1s 27ms/step - loss: 6.0005e-04\n",
      "Epoch 32/100\n",
      "38/38 [==============================] - 1s 27ms/step - loss: 5.8422e-04\n",
      "Epoch 33/100\n",
      "38/38 [==============================] - 1s 27ms/step - loss: 5.9985e-04\n",
      "Epoch 34/100\n",
      "38/38 [==============================] - 1s 27ms/step - loss: 6.8185e-04\n",
      "Epoch 35/100\n",
      "38/38 [==============================] - 1s 27ms/step - loss: 5.4188e-04\n",
      "Epoch 36/100\n",
      "38/38 [==============================] - 1s 27ms/step - loss: 6.4493e-04\n",
      "Epoch 37/100\n",
      "38/38 [==============================] - 1s 27ms/step - loss: 5.5287e-04\n",
      "Epoch 38/100\n",
      "38/38 [==============================] - 1s 27ms/step - loss: 6.1335e-04\n",
      "Epoch 39/100\n",
      "38/38 [==============================] - 1s 27ms/step - loss: 5.5309e-04\n",
      "Epoch 40/100\n",
      "38/38 [==============================] - 1s 27ms/step - loss: 6.0370e-04\n",
      "Epoch 41/100\n",
      "38/38 [==============================] - 1s 27ms/step - loss: 5.4309e-04\n",
      "Epoch 42/100\n",
      "38/38 [==============================] - 1s 27ms/step - loss: 5.1062e-04\n",
      "Epoch 43/100\n",
      "38/38 [==============================] - 1s 27ms/step - loss: 5.1345e-04\n",
      "Epoch 44/100\n",
      "38/38 [==============================] - 1s 27ms/step - loss: 5.2254e-04\n",
      "Epoch 45/100\n",
      "38/38 [==============================] - 1s 27ms/step - loss: 4.7227e-04\n",
      "Epoch 46/100\n",
      "38/38 [==============================] - 1s 27ms/step - loss: 4.5896e-04\n",
      "Epoch 47/100\n",
      "38/38 [==============================] - 1s 27ms/step - loss: 4.6649e-04\n",
      "Epoch 48/100\n",
      "38/38 [==============================] - 1s 27ms/step - loss: 4.5531e-04\n",
      "Epoch 49/100\n",
      "38/38 [==============================] - 1s 27ms/step - loss: 4.8905e-04\n",
      "Epoch 50/100\n",
      "38/38 [==============================] - 1s 27ms/step - loss: 5.2878e-04\n",
      "Epoch 51/100\n",
      "38/38 [==============================] - 1s 27ms/step - loss: 5.2762e-04\n",
      "Epoch 52/100\n",
      "38/38 [==============================] - 1s 27ms/step - loss: 5.5206e-04\n",
      "Epoch 53/100\n",
      "38/38 [==============================] - 1s 27ms/step - loss: 4.4208e-04\n",
      "Epoch 54/100\n",
      "38/38 [==============================] - 1s 27ms/step - loss: 5.1170e-04\n",
      "Epoch 55/100\n",
      "38/38 [==============================] - 1s 27ms/step - loss: 5.6342e-04\n",
      "Epoch 56/100\n",
      "38/38 [==============================] - 1s 27ms/step - loss: 6.3036e-04\n",
      "Epoch 57/100\n",
      "38/38 [==============================] - 1s 27ms/step - loss: 4.6455e-04\n",
      "Epoch 58/100\n",
      "38/38 [==============================] - 1s 27ms/step - loss: 5.4232e-04\n",
      "Epoch 59/100\n",
      "38/38 [==============================] - 1s 27ms/step - loss: 3.9491e-04\n",
      "Epoch 60/100\n",
      "38/38 [==============================] - 1s 28ms/step - loss: 3.7608e-04\n",
      "Epoch 61/100\n",
      "38/38 [==============================] - 1s 28ms/step - loss: 3.7489e-04\n",
      "Epoch 62/100\n",
      "38/38 [==============================] - 1s 27ms/step - loss: 4.1165e-04\n",
      "Epoch 63/100\n",
      "38/38 [==============================] - 1s 27ms/step - loss: 4.3288e-04\n",
      "Epoch 64/100\n",
      "38/38 [==============================] - 1s 27ms/step - loss: 4.2672e-04\n",
      "Epoch 65/100\n",
      "38/38 [==============================] - 1s 28ms/step - loss: 3.7796e-04\n",
      "Epoch 66/100\n",
      "38/38 [==============================] - 1s 28ms/step - loss: 3.5314e-04\n",
      "Epoch 67/100\n",
      "38/38 [==============================] - 1s 27ms/step - loss: 3.8361e-04\n",
      "Epoch 68/100\n",
      "38/38 [==============================] - 1s 27ms/step - loss: 4.3028e-04\n",
      "Epoch 69/100\n",
      "38/38 [==============================] - 1s 28ms/step - loss: 3.5185e-04\n",
      "Epoch 70/100\n",
      "38/38 [==============================] - 1s 30ms/step - loss: 3.7377e-04\n",
      "Epoch 71/100\n",
      "38/38 [==============================] - 1s 33ms/step - loss: 4.0045e-04\n",
      "Epoch 72/100\n",
      "38/38 [==============================] - 1s 28ms/step - loss: 4.0799e-04\n",
      "Epoch 73/100\n",
      "38/38 [==============================] - 1s 27ms/step - loss: 3.2113e-04\n",
      "Epoch 74/100\n",
      "38/38 [==============================] - 1s 27ms/step - loss: 3.3574e-04\n",
      "Epoch 75/100\n",
      "38/38 [==============================] - 1s 27ms/step - loss: 3.6235e-04\n",
      "Epoch 76/100\n",
      "38/38 [==============================] - 1s 27ms/step - loss: 3.7760e-04\n",
      "Epoch 77/100\n",
      "38/38 [==============================] - 1s 27ms/step - loss: 3.3841e-04\n",
      "Epoch 78/100\n",
      "38/38 [==============================] - 1s 27ms/step - loss: 3.0968e-04\n",
      "Epoch 79/100\n",
      "38/38 [==============================] - 1s 28ms/step - loss: 3.7521e-04\n",
      "Epoch 80/100\n",
      "38/38 [==============================] - 1s 27ms/step - loss: 2.9743e-04\n",
      "Epoch 81/100\n",
      "38/38 [==============================] - 1s 27ms/step - loss: 3.2673e-04\n",
      "Epoch 82/100\n",
      "38/38 [==============================] - 1s 28ms/step - loss: 3.0870e-04\n",
      "Epoch 83/100\n",
      "38/38 [==============================] - 1s 29ms/step - loss: 4.0154e-04\n",
      "Epoch 84/100\n",
      "38/38 [==============================] - 1s 28ms/step - loss: 3.7279e-04\n",
      "Epoch 85/100\n",
      "38/38 [==============================] - 1s 29ms/step - loss: 4.5356e-04\n",
      "Epoch 86/100\n",
      "38/38 [==============================] - 1s 28ms/step - loss: 3.2542e-04\n",
      "Epoch 87/100\n",
      "38/38 [==============================] - 1s 27ms/step - loss: 3.9416e-04\n",
      "Epoch 88/100\n",
      "38/38 [==============================] - 1s 28ms/step - loss: 3.5333e-04\n",
      "Epoch 89/100\n",
      "38/38 [==============================] - 1s 27ms/step - loss: 3.1218e-04\n",
      "Epoch 90/100\n",
      "38/38 [==============================] - 1s 28ms/step - loss: 3.4888e-04\n",
      "Epoch 91/100\n",
      "38/38 [==============================] - 1s 27ms/step - loss: 2.8305e-04\n",
      "Epoch 92/100\n",
      "38/38 [==============================] - 1s 27ms/step - loss: 2.7073e-04\n",
      "Epoch 93/100\n",
      "38/38 [==============================] - 1s 27ms/step - loss: 2.7452e-04\n",
      "Epoch 94/100\n",
      "38/38 [==============================] - 1s 27ms/step - loss: 2.5630e-04\n",
      "Epoch 95/100\n",
      "38/38 [==============================] - 1s 27ms/step - loss: 3.0153e-04\n",
      "Epoch 96/100\n",
      "38/38 [==============================] - 1s 27ms/step - loss: 2.8324e-04\n",
      "Epoch 97/100\n"
     ]
    },
    {
     "name": "stdout",
     "output_type": "stream",
     "text": [
      "38/38 [==============================] - 1s 27ms/step - loss: 2.4094e-04\n",
      "Epoch 98/100\n",
      "38/38 [==============================] - 1s 27ms/step - loss: 2.9537e-04\n",
      "Epoch 99/100\n",
      "38/38 [==============================] - 1s 27ms/step - loss: 3.0290e-04\n",
      "Epoch 100/100\n",
      "38/38 [==============================] - 1s 27ms/step - loss: 2.6106e-04\n"
     ]
    },
    {
     "data": {
      "text/plain": [
       "<keras.callbacks.History at 0x28ce14940>"
      ]
     },
     "execution_count": 14,
     "metadata": {},
     "output_type": "execute_result"
    }
   ],
   "source": [
    "regressor.fit(X_train, y_train, epochs = 100, batch_size = 32)"
   ]
  },
  {
   "cell_type": "markdown",
   "metadata": {
    "colab_type": "text",
    "id": "SgJO6qEDksxD"
   },
   "source": [
    "### Getting the real stock price of 2017"
   ]
  },
  {
   "cell_type": "code",
   "execution_count": 18,
   "metadata": {
    "colab": {},
    "colab_type": "code",
    "id": "FmBT2zqukxTz"
   },
   "outputs": [],
   "source": [
    "dataset_test = pd.read_csv('GOOGLE_TEST_DATA.csv')\n",
    "real_stock_price = dataset_test.iloc[:, 1:2].values\n"
   ]
  },
  {
   "cell_type": "markdown",
   "metadata": {
    "colab_type": "text",
    "id": "GrvrLblxkz42"
   },
   "source": [
    "### Getting the predicted stock price of 2022 January"
   ]
  },
  {
   "cell_type": "code",
   "execution_count": 24,
   "metadata": {
    "colab": {},
    "colab_type": "code",
    "id": "emikTvUpk3Ck"
   },
   "outputs": [
    {
     "name": "stdout",
     "output_type": "stream",
     "text": [
      "1/1 [==============================] - 0s 54ms/step\n",
      "[2901.100098] [2848.1487]\n",
      "[2907.919922] [2840.1357]\n",
      "[2888.399902] [2840.0166]\n",
      "[2739.969971] [2834.376]\n",
      "[2762.909912] [2776.6157]\n",
      "[2701.560059] [2751.647]\n",
      "[2760.139893] [2722.3682]\n",
      "[2823.] [2728.4097]\n",
      "[2830.800049] [2758.1587]\n",
      "[2741.580078] [2775.0674]\n",
      "[2723.5] [2745.0083]\n",
      "[2730.469971] [2716.1887]\n",
      "[2725.] [2705.4297]\n",
      "[2651.870117] [2701.746]\n",
      "[2519.560059] [2674.3296]\n",
      "[2574.800049] [2609.1138]\n",
      "[2622.379883] [2589.154]\n",
      "[2626.080078] [2605.8455]\n",
      "[2593.179932] [2620.731]\n",
      "[2683.23999] [2612.8284]\n"
     ]
    }
   ],
   "source": [
    "dataset_total = pd.concat((dataset_train['Open'], dataset_test['Open']), axis = 0)\n",
    "inputs = dataset_total[len(dataset_total) - len(dataset_test) - 60:].values\n",
    "inputs = inputs.reshape(-1,1)\n",
    "\n",
    "inputs = sc.transform(inputs)\n",
    "X_test = []\n",
    "for i in range(60, 80):\n",
    "    X_test.append(inputs[i-60:i, 0])\n",
    "X_test = np.array(X_test)\n",
    "X_test = np.reshape(X_test, (X_test.shape[0], X_test.shape[1], 1))\n",
    "predicted_stock_price = regressor.predict(X_test)\n",
    "predicted_stock_price = sc.inverse_transform(predicted_stock_price)\n",
    "for i in range(20):\n",
    "    print(real_stock_price[i],predicted_stock_price[i])"
   ]
  },
  {
   "cell_type": "markdown",
   "metadata": {
    "colab_type": "text",
    "id": "iFTNs3YHk6FQ"
   },
   "source": [
    "### Visualising the results"
   ]
  },
  {
   "cell_type": "code",
   "execution_count": 21,
   "metadata": {
    "colab": {
     "base_uri": "https://localhost:8080/",
     "height": 295
    },
    "colab_type": "code",
    "id": "8OUI8U49k9tH",
    "outputId": "db0ed15e-071b-4bae-955e-0eda3df95238"
   },
   "outputs": [
    {
     "data": {
      "image/png": "[encoded data removed]",
      "text/plain": [
       "<Figure size 640x480 with 1 Axes>"
      ]
     },
     "metadata": {},
     "output_type": "display_data"
    }
   ],
   "source": [
    "plt.plot(real_stock_price, color = 'red', label = 'Real Google Stock Price')\n",
    "plt.plot(predicted_stock_price, color = 'blue', label = 'Predicted Google Stock Price')\n",
    "plt.title('Google Stock Price Prediction')\n",
    "plt.xlabel('Date')\n",
    "plt.ylabel('Google Stock Price')\n",
    "plt.legend()\n",
    "plt.show()"
   ]
  },
  {
   "cell_type": "code",
   "execution_count": null,
   "metadata": {},
   "outputs": [],
   "source": []
  },
  {
   "cell_type": "code",
   "execution_count": null,
   "metadata": {},
   "outputs": [],
   "source": []
  }
 ],
 "metadata": {
  "colab": {
   "collapsed_sections": [],
   "name": "recurrent_neural_network.ipynb",
   "provenance": []
  },
  "kernelspec": {
   "display_name": "Python 3.10 (tensorflow)",
   "language": "python",
   "name": "tensorflow"
  },
  "language_info": {
   "codemirror_mode": {
    "name": "ipython",
    "version": 3
   },
   "file_extension": ".py",
   "mimetype": "text/x-python",
   "name": "python",
   "nbconvert_exporter": "python",
   "pygments_lexer": "ipython3",
   "version": "3.10.10"
  }
 },
 "nbformat": 4,
 "nbformat_minor": 1
}
